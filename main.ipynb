{
 "cells": [
  {
   "cell_type": "code",
   "execution_count": null,
   "metadata": {},
   "outputs": [],
   "source": [
    "from src.compressor import Compressor\n",
    "\n",
    "\n",
    "model_path = ...\n",
    "compressor = Compressor(model_path)\n",
    "doc = ...\n",
    "query = ...\n",
    "copressed_doc = compressor.compress(doc, query, ratio=0.5)"
   ]
  },
  {
   "cell_type": "code",
   "execution_count": null,
   "metadata": {},
   "outputs": [],
   "source": [
    "from src.load_data import get_prompts\n",
    "from src.generator import longchat_generator\n",
    "from tqdm import tqdm\n",
    "\n",
    "def test(data_path, res_file_name):\n",
    "    nq, prompts  = get_prompts(data_path)\n",
    "    longchat_model_path = '/home/gomall/models/longchat-13b-16k'\n",
    "    generator = longchat_generator(longchat_model_path)\n",
    "    # generate answers\n",
    "    results = []\n",
    "    for prompt in tqdm(prompts):\n",
    "        results.append(generator.chat(prompt))\n",
    "    nq = nq.add_column('outputs', results)\n",
    "    #save to json\n",
    "    nq.to_json(res_file_name)"
   ]
  },
  {
   "cell_type": "code",
   "execution_count": null,
   "metadata": {},
   "outputs": [],
   "source": [
    "data_path = '/Users/wenshan/Desktop/ccir/注意力压缩/NQ/0.json'\n",
    "res_file_name = 'test_results/nq_ori_prompt_1st.json'\n",
    "test(data_path, res_file_name)"
   ]
  },
  {
   "cell_type": "code",
   "execution_count": null,
   "metadata": {},
   "outputs": [],
   "source": [
    "data_path = '/Users/wenshan/Desktop/ccir/注意力压缩/NQ/4.json'\n",
    "res_file_name = 'test_results/nq_ori_prompt_5th.json'\n",
    "test(data_path, res_file_name)"
   ]
  }
 ],
 "metadata": {
  "language_info": {
   "name": "python"
  }
 },
 "nbformat": 4,
 "nbformat_minor": 2
}
